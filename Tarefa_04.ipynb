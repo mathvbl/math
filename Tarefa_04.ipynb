{
  "nbformat": 4,
  "nbformat_minor": 0,
  "metadata": {
    "colab": {
      "name": "Tarefa 04.ipynb",
      "provenance": [],
      "collapsed_sections": [
        "FFxhdO05s_P_",
        "JFEJqP7ox3v4"
      ],
      "authorship_tag": "ABX9TyP5QZ5As6iG+W7iahjGsT7b"
    },
    "kernelspec": {
      "name": "python3",
      "display_name": "Python 3"
    },
    "language_info": {
      "name": "python"
    }
  },
  "cells": [
    {
      "cell_type": "markdown",
      "metadata": {
        "id": "FFxhdO05s_P_"
      },
      "source": [
        "# ***Funções e Bibliotecas Utilizadas***\n",
        "Aqui estão todas as funções e as bibliotecas que serão utilizadas para a resolução da tarefa e para execução do código.\n",
        "\n",
        "A função **Read()** foi utilizada para abrir arquivos. Ela abre um arquivo, copia os dados desse arquivo para a variável ArqContent, fecha o arquivo e retorna a variável ArqContent.\n",
        "\n",
        "A função **Clean()**, função adaptada [1], recebe uma lista contendo diversos caracteres, a variável **Lixo** conterá os caracteres a serem removidos, a variável **Limpando** conterá a lista recebida pela função com as letras minusculas e com os caracteres contidos na variável **Lixo**  removidos, isso será feito pela função **lower()** que deixa o caractere em minusculo e a função **strip** que retorna a cópia da lista  com os caracteres removidos, no final antes de retornar a nova lista função verificará se toda a lista esta formada apenas por caracteres com letras do alfabeto e  hífen (-).\n",
        "\n",
        "A função **Countc()** foi utilizada para contar o número de caracteres.Ela recebe uma lista de caracteres,percorre essa lista com um contador e retorna esse contador.\n",
        "\n",
        "A função **Ocurrences()** função adaptada [1], foi utilizada para verificar a ocorrência de determinada palavra em uma lista. Ela recebe um lista contendo determinado conjunto de palavras e cria um dicionario o **Dict** e  esse dicionario está representado por **defaultdict(int)** o que resultará na seguinte situação, caso a chave não estiver representada no dicionário ela será representada relacionando a chave ao valor 0,ou seja,dado uma lista de palavras a verificação de ocorrência dessa palavra será definida pela chave, sempre que a chave for igual, **Dict** será incrementado, quando uma nova chave for descoberta será atribuída ao valor 0 e será pesquisado mais dessa chave na lista, quando toda lista for percorrida a variavel **Dict** será retornado pela função."
      ]
    },
    {
      "cell_type": "code",
      "metadata": {
        "id": "z65eqsZMtTtA",
        "colab": {
          "base_uri": "https://localhost:8080/"
        },
        "outputId": "4444a3a8-a97e-472a-b04a-1928db1e2356"
      },
      "source": [
        "from typing import Dict\n",
        "from collections import defaultdict\n",
        "nltk.download('all')\n",
        "import nltk\n",
        "from nltk import word_tokenize\n",
        "import matplotlib.pyplot as plt\n",
        "\n",
        "\n",
        "def Read(FileName):\n",
        "  Arquivo = open(FileName, 'r', encoding='utf-8')\n",
        "  ArqContent = Arquivo.read()\n",
        "  Arquivo.close()\n",
        "  return ArqContent\n",
        "\n",
        "\n",
        "def Clean(lista):\n",
        "  Lixo = '.,:.;?!\"`()[]{}\\/|#$%^&*'\n",
        "  Limpando = [newlist.strip(Lixo).lower() for newlist in lista]\n",
        "  return [newlist for newlist in Limpando if newlist.isalpha() or '-' in newlist]\n",
        "\n",
        "def CountC(lista):\n",
        "  contador = 0\n",
        "  for contador in range(len(lista)):\n",
        "    pass\n",
        "  return contador\n",
        "\n",
        "def Occurrences(lista):\n",
        "    Dict = defaultdict(int)\n",
        "    for p in lista:\n",
        "       Dict[p] += 1\n",
        "    \n",
        "    return Dict"
      ],
      "execution_count": 107,
      "outputs": [
        {
          "output_type": "stream",
          "name": "stdout",
          "text": [
            "[nltk_data] Downloading collection 'all'\n",
            "[nltk_data]    | \n",
            "[nltk_data]    | Downloading package abc to /root/nltk_data...\n",
            "[nltk_data]    |   Package abc is already up-to-date!\n",
            "[nltk_data]    | Downloading package alpino to /root/nltk_data...\n",
            "[nltk_data]    |   Package alpino is already up-to-date!\n",
            "[nltk_data]    | Downloading package biocreative_ppi to\n",
            "[nltk_data]    |     /root/nltk_data...\n",
            "[nltk_data]    |   Package biocreative_ppi is already up-to-date!\n",
            "[nltk_data]    | Downloading package brown to /root/nltk_data...\n",
            "[nltk_data]    |   Package brown is already up-to-date!\n",
            "[nltk_data]    | Downloading package brown_tei to /root/nltk_data...\n",
            "[nltk_data]    |   Package brown_tei is already up-to-date!\n",
            "[nltk_data]    | Downloading package cess_cat to /root/nltk_data...\n",
            "[nltk_data]    |   Package cess_cat is already up-to-date!\n",
            "[nltk_data]    | Downloading package cess_esp to /root/nltk_data...\n",
            "[nltk_data]    |   Package cess_esp is already up-to-date!\n",
            "[nltk_data]    | Downloading package chat80 to /root/nltk_data...\n",
            "[nltk_data]    |   Package chat80 is already up-to-date!\n",
            "[nltk_data]    | Downloading package city_database to\n",
            "[nltk_data]    |     /root/nltk_data...\n",
            "[nltk_data]    |   Package city_database is already up-to-date!\n",
            "[nltk_data]    | Downloading package cmudict to /root/nltk_data...\n",
            "[nltk_data]    |   Package cmudict is already up-to-date!\n",
            "[nltk_data]    | Downloading package comparative_sentences to\n",
            "[nltk_data]    |     /root/nltk_data...\n",
            "[nltk_data]    |   Package comparative_sentences is already up-to-\n",
            "[nltk_data]    |       date!\n",
            "[nltk_data]    | Downloading package comtrans to /root/nltk_data...\n",
            "[nltk_data]    |   Package comtrans is already up-to-date!\n",
            "[nltk_data]    | Downloading package conll2000 to /root/nltk_data...\n",
            "[nltk_data]    |   Package conll2000 is already up-to-date!\n",
            "[nltk_data]    | Downloading package conll2002 to /root/nltk_data...\n",
            "[nltk_data]    |   Package conll2002 is already up-to-date!\n",
            "[nltk_data]    | Downloading package conll2007 to /root/nltk_data...\n",
            "[nltk_data]    |   Package conll2007 is already up-to-date!\n",
            "[nltk_data]    | Downloading package crubadan to /root/nltk_data...\n",
            "[nltk_data]    |   Package crubadan is already up-to-date!\n",
            "[nltk_data]    | Downloading package dependency_treebank to\n",
            "[nltk_data]    |     /root/nltk_data...\n",
            "[nltk_data]    |   Package dependency_treebank is already up-to-date!\n",
            "[nltk_data]    | Downloading package dolch to /root/nltk_data...\n",
            "[nltk_data]    |   Package dolch is already up-to-date!\n",
            "[nltk_data]    | Downloading package europarl_raw to\n",
            "[nltk_data]    |     /root/nltk_data...\n",
            "[nltk_data]    |   Package europarl_raw is already up-to-date!\n",
            "[nltk_data]    | Downloading package floresta to /root/nltk_data...\n",
            "[nltk_data]    |   Package floresta is already up-to-date!\n",
            "[nltk_data]    | Downloading package framenet_v15 to\n",
            "[nltk_data]    |     /root/nltk_data...\n",
            "[nltk_data]    |   Package framenet_v15 is already up-to-date!\n",
            "[nltk_data]    | Downloading package framenet_v17 to\n",
            "[nltk_data]    |     /root/nltk_data...\n",
            "[nltk_data]    |   Package framenet_v17 is already up-to-date!\n",
            "[nltk_data]    | Downloading package gazetteers to /root/nltk_data...\n",
            "[nltk_data]    |   Package gazetteers is already up-to-date!\n",
            "[nltk_data]    | Downloading package genesis to /root/nltk_data...\n",
            "[nltk_data]    |   Package genesis is already up-to-date!\n",
            "[nltk_data]    | Downloading package gutenberg to /root/nltk_data...\n",
            "[nltk_data]    |   Package gutenberg is already up-to-date!\n",
            "[nltk_data]    | Downloading package ieer to /root/nltk_data...\n",
            "[nltk_data]    |   Package ieer is already up-to-date!\n",
            "[nltk_data]    | Downloading package inaugural to /root/nltk_data...\n",
            "[nltk_data]    |   Package inaugural is already up-to-date!\n",
            "[nltk_data]    | Downloading package indian to /root/nltk_data...\n",
            "[nltk_data]    |   Package indian is already up-to-date!\n",
            "[nltk_data]    | Downloading package jeita to /root/nltk_data...\n",
            "[nltk_data]    |   Package jeita is already up-to-date!\n",
            "[nltk_data]    | Downloading package kimmo to /root/nltk_data...\n",
            "[nltk_data]    |   Package kimmo is already up-to-date!\n",
            "[nltk_data]    | Downloading package knbc to /root/nltk_data...\n",
            "[nltk_data]    |   Package knbc is already up-to-date!\n",
            "[nltk_data]    | Downloading package lin_thesaurus to\n",
            "[nltk_data]    |     /root/nltk_data...\n",
            "[nltk_data]    |   Package lin_thesaurus is already up-to-date!\n",
            "[nltk_data]    | Downloading package mac_morpho to /root/nltk_data...\n",
            "[nltk_data]    |   Package mac_morpho is already up-to-date!\n",
            "[nltk_data]    | Downloading package machado to /root/nltk_data...\n",
            "[nltk_data]    |   Package machado is already up-to-date!\n",
            "[nltk_data]    | Downloading package masc_tagged to /root/nltk_data...\n",
            "[nltk_data]    |   Package masc_tagged is already up-to-date!\n",
            "[nltk_data]    | Downloading package moses_sample to\n",
            "[nltk_data]    |     /root/nltk_data...\n",
            "[nltk_data]    |   Package moses_sample is already up-to-date!\n",
            "[nltk_data]    | Downloading package movie_reviews to\n",
            "[nltk_data]    |     /root/nltk_data...\n",
            "[nltk_data]    |   Package movie_reviews is already up-to-date!\n",
            "[nltk_data]    | Downloading package names to /root/nltk_data...\n",
            "[nltk_data]    |   Package names is already up-to-date!\n",
            "[nltk_data]    | Downloading package nombank.1.0 to /root/nltk_data...\n",
            "[nltk_data]    |   Package nombank.1.0 is already up-to-date!\n",
            "[nltk_data]    | Downloading package nps_chat to /root/nltk_data...\n",
            "[nltk_data]    |   Package nps_chat is already up-to-date!\n",
            "[nltk_data]    | Downloading package omw to /root/nltk_data...\n",
            "[nltk_data]    |   Package omw is already up-to-date!\n",
            "[nltk_data]    | Downloading package opinion_lexicon to\n",
            "[nltk_data]    |     /root/nltk_data...\n",
            "[nltk_data]    |   Package opinion_lexicon is already up-to-date!\n",
            "[nltk_data]    | Downloading package paradigms to /root/nltk_data...\n",
            "[nltk_data]    |   Package paradigms is already up-to-date!\n",
            "[nltk_data]    | Downloading package pil to /root/nltk_data...\n",
            "[nltk_data]    |   Package pil is already up-to-date!\n",
            "[nltk_data]    | Downloading package pl196x to /root/nltk_data...\n",
            "[nltk_data]    |   Package pl196x is already up-to-date!\n",
            "[nltk_data]    | Downloading package ppattach to /root/nltk_data...\n",
            "[nltk_data]    |   Package ppattach is already up-to-date!\n",
            "[nltk_data]    | Downloading package problem_reports to\n",
            "[nltk_data]    |     /root/nltk_data...\n",
            "[nltk_data]    |   Package problem_reports is already up-to-date!\n",
            "[nltk_data]    | Downloading package propbank to /root/nltk_data...\n",
            "[nltk_data]    |   Package propbank is already up-to-date!\n",
            "[nltk_data]    | Downloading package ptb to /root/nltk_data...\n",
            "[nltk_data]    |   Package ptb is already up-to-date!\n",
            "[nltk_data]    | Downloading package product_reviews_1 to\n",
            "[nltk_data]    |     /root/nltk_data...\n",
            "[nltk_data]    |   Package product_reviews_1 is already up-to-date!\n",
            "[nltk_data]    | Downloading package product_reviews_2 to\n",
            "[nltk_data]    |     /root/nltk_data...\n",
            "[nltk_data]    |   Package product_reviews_2 is already up-to-date!\n",
            "[nltk_data]    | Downloading package pros_cons to /root/nltk_data...\n",
            "[nltk_data]    |   Package pros_cons is already up-to-date!\n",
            "[nltk_data]    | Downloading package qc to /root/nltk_data...\n",
            "[nltk_data]    |   Package qc is already up-to-date!\n",
            "[nltk_data]    | Downloading package reuters to /root/nltk_data...\n",
            "[nltk_data]    |   Package reuters is already up-to-date!\n",
            "[nltk_data]    | Downloading package rte to /root/nltk_data...\n",
            "[nltk_data]    |   Package rte is already up-to-date!\n",
            "[nltk_data]    | Downloading package semcor to /root/nltk_data...\n",
            "[nltk_data]    |   Package semcor is already up-to-date!\n",
            "[nltk_data]    | Downloading package senseval to /root/nltk_data...\n",
            "[nltk_data]    |   Package senseval is already up-to-date!\n",
            "[nltk_data]    | Downloading package sentiwordnet to\n",
            "[nltk_data]    |     /root/nltk_data...\n",
            "[nltk_data]    |   Package sentiwordnet is already up-to-date!\n",
            "[nltk_data]    | Downloading package sentence_polarity to\n",
            "[nltk_data]    |     /root/nltk_data...\n",
            "[nltk_data]    |   Package sentence_polarity is already up-to-date!\n",
            "[nltk_data]    | Downloading package shakespeare to /root/nltk_data...\n",
            "[nltk_data]    |   Package shakespeare is already up-to-date!\n",
            "[nltk_data]    | Downloading package sinica_treebank to\n",
            "[nltk_data]    |     /root/nltk_data...\n",
            "[nltk_data]    |   Package sinica_treebank is already up-to-date!\n",
            "[nltk_data]    | Downloading package smultron to /root/nltk_data...\n",
            "[nltk_data]    |   Package smultron is already up-to-date!\n",
            "[nltk_data]    | Downloading package state_union to /root/nltk_data...\n",
            "[nltk_data]    |   Package state_union is already up-to-date!\n",
            "[nltk_data]    | Downloading package stopwords to /root/nltk_data...\n",
            "[nltk_data]    |   Package stopwords is already up-to-date!\n",
            "[nltk_data]    | Downloading package subjectivity to\n",
            "[nltk_data]    |     /root/nltk_data...\n",
            "[nltk_data]    |   Package subjectivity is already up-to-date!\n",
            "[nltk_data]    | Downloading package swadesh to /root/nltk_data...\n",
            "[nltk_data]    |   Package swadesh is already up-to-date!\n",
            "[nltk_data]    | Downloading package switchboard to /root/nltk_data...\n",
            "[nltk_data]    |   Package switchboard is already up-to-date!\n",
            "[nltk_data]    | Downloading package timit to /root/nltk_data...\n",
            "[nltk_data]    |   Package timit is already up-to-date!\n",
            "[nltk_data]    | Downloading package toolbox to /root/nltk_data...\n",
            "[nltk_data]    |   Package toolbox is already up-to-date!\n",
            "[nltk_data]    | Downloading package treebank to /root/nltk_data...\n",
            "[nltk_data]    |   Package treebank is already up-to-date!\n",
            "[nltk_data]    | Downloading package twitter_samples to\n",
            "[nltk_data]    |     /root/nltk_data...\n",
            "[nltk_data]    |   Package twitter_samples is already up-to-date!\n",
            "[nltk_data]    | Downloading package udhr to /root/nltk_data...\n",
            "[nltk_data]    |   Package udhr is already up-to-date!\n",
            "[nltk_data]    | Downloading package udhr2 to /root/nltk_data...\n",
            "[nltk_data]    |   Package udhr2 is already up-to-date!\n",
            "[nltk_data]    | Downloading package unicode_samples to\n",
            "[nltk_data]    |     /root/nltk_data...\n",
            "[nltk_data]    |   Package unicode_samples is already up-to-date!\n",
            "[nltk_data]    | Downloading package universal_treebanks_v20 to\n",
            "[nltk_data]    |     /root/nltk_data...\n",
            "[nltk_data]    |   Package universal_treebanks_v20 is already up-to-\n",
            "[nltk_data]    |       date!\n",
            "[nltk_data]    | Downloading package verbnet to /root/nltk_data...\n",
            "[nltk_data]    |   Package verbnet is already up-to-date!\n",
            "[nltk_data]    | Downloading package verbnet3 to /root/nltk_data...\n",
            "[nltk_data]    |   Package verbnet3 is already up-to-date!\n",
            "[nltk_data]    | Downloading package webtext to /root/nltk_data...\n",
            "[nltk_data]    |   Package webtext is already up-to-date!\n",
            "[nltk_data]    | Downloading package wordnet to /root/nltk_data...\n",
            "[nltk_data]    |   Package wordnet is already up-to-date!\n",
            "[nltk_data]    | Downloading package wordnet31 to /root/nltk_data...\n",
            "[nltk_data]    |   Package wordnet31 is already up-to-date!\n",
            "[nltk_data]    | Downloading package wordnet_ic to /root/nltk_data...\n",
            "[nltk_data]    |   Package wordnet_ic is already up-to-date!\n",
            "[nltk_data]    | Downloading package words to /root/nltk_data...\n",
            "[nltk_data]    |   Package words is already up-to-date!\n",
            "[nltk_data]    | Downloading package ycoe to /root/nltk_data...\n",
            "[nltk_data]    |   Package ycoe is already up-to-date!\n",
            "[nltk_data]    | Downloading package rslp to /root/nltk_data...\n",
            "[nltk_data]    |   Package rslp is already up-to-date!\n",
            "[nltk_data]    | Downloading package maxent_treebank_pos_tagger to\n",
            "[nltk_data]    |     /root/nltk_data...\n",
            "[nltk_data]    |   Package maxent_treebank_pos_tagger is already up-\n",
            "[nltk_data]    |       to-date!\n",
            "[nltk_data]    | Downloading package universal_tagset to\n",
            "[nltk_data]    |     /root/nltk_data...\n",
            "[nltk_data]    |   Package universal_tagset is already up-to-date!\n",
            "[nltk_data]    | Downloading package maxent_ne_chunker to\n",
            "[nltk_data]    |     /root/nltk_data...\n",
            "[nltk_data]    |   Package maxent_ne_chunker is already up-to-date!\n",
            "[nltk_data]    | Downloading package punkt to /root/nltk_data...\n",
            "[nltk_data]    |   Package punkt is already up-to-date!\n",
            "[nltk_data]    | Downloading package book_grammars to\n",
            "[nltk_data]    |     /root/nltk_data...\n",
            "[nltk_data]    |   Package book_grammars is already up-to-date!\n",
            "[nltk_data]    | Downloading package sample_grammars to\n",
            "[nltk_data]    |     /root/nltk_data...\n",
            "[nltk_data]    |   Package sample_grammars is already up-to-date!\n",
            "[nltk_data]    | Downloading package spanish_grammars to\n",
            "[nltk_data]    |     /root/nltk_data...\n",
            "[nltk_data]    |   Package spanish_grammars is already up-to-date!\n",
            "[nltk_data]    | Downloading package basque_grammars to\n",
            "[nltk_data]    |     /root/nltk_data...\n",
            "[nltk_data]    |   Package basque_grammars is already up-to-date!\n",
            "[nltk_data]    | Downloading package large_grammars to\n",
            "[nltk_data]    |     /root/nltk_data...\n",
            "[nltk_data]    |   Package large_grammars is already up-to-date!\n",
            "[nltk_data]    | Downloading package tagsets to /root/nltk_data...\n",
            "[nltk_data]    |   Package tagsets is already up-to-date!\n",
            "[nltk_data]    | Downloading package snowball_data to\n",
            "[nltk_data]    |     /root/nltk_data...\n",
            "[nltk_data]    |   Package snowball_data is already up-to-date!\n",
            "[nltk_data]    | Downloading package bllip_wsj_no_aux to\n",
            "[nltk_data]    |     /root/nltk_data...\n",
            "[nltk_data]    |   Package bllip_wsj_no_aux is already up-to-date!\n",
            "[nltk_data]    | Downloading package word2vec_sample to\n",
            "[nltk_data]    |     /root/nltk_data...\n",
            "[nltk_data]    |   Package word2vec_sample is already up-to-date!\n",
            "[nltk_data]    | Downloading package panlex_swadesh to\n",
            "[nltk_data]    |     /root/nltk_data...\n",
            "[nltk_data]    |   Package panlex_swadesh is already up-to-date!\n",
            "[nltk_data]    | Downloading package mte_teip5 to /root/nltk_data...\n",
            "[nltk_data]    |   Package mte_teip5 is already up-to-date!\n",
            "[nltk_data]    | Downloading package averaged_perceptron_tagger to\n",
            "[nltk_data]    |     /root/nltk_data...\n",
            "[nltk_data]    |   Package averaged_perceptron_tagger is already up-\n",
            "[nltk_data]    |       to-date!\n",
            "[nltk_data]    | Downloading package averaged_perceptron_tagger_ru to\n",
            "[nltk_data]    |     /root/nltk_data...\n",
            "[nltk_data]    |   Package averaged_perceptron_tagger_ru is already\n",
            "[nltk_data]    |       up-to-date!\n",
            "[nltk_data]    | Downloading package perluniprops to\n",
            "[nltk_data]    |     /root/nltk_data...\n",
            "[nltk_data]    |   Package perluniprops is already up-to-date!\n",
            "[nltk_data]    | Downloading package nonbreaking_prefixes to\n",
            "[nltk_data]    |     /root/nltk_data...\n",
            "[nltk_data]    |   Package nonbreaking_prefixes is already up-to-date!\n",
            "[nltk_data]    | Downloading package vader_lexicon to\n",
            "[nltk_data]    |     /root/nltk_data...\n",
            "[nltk_data]    |   Package vader_lexicon is already up-to-date!\n",
            "[nltk_data]    | Downloading package porter_test to /root/nltk_data...\n",
            "[nltk_data]    |   Package porter_test is already up-to-date!\n",
            "[nltk_data]    | Downloading package wmt15_eval to /root/nltk_data...\n",
            "[nltk_data]    |   Package wmt15_eval is already up-to-date!\n",
            "[nltk_data]    | Downloading package mwa_ppdb to /root/nltk_data...\n",
            "[nltk_data]    |   Package mwa_ppdb is already up-to-date!\n",
            "[nltk_data]    | \n",
            "[nltk_data]  Done downloading collection all\n"
          ]
        }
      ]
    },
    {
      "cell_type": "markdown",
      "metadata": {
        "id": "0JrBkdOQotG4"
      },
      "source": [
        "# ***Abrindo os Arquivos .txt***\n",
        "Como a tarefa necessitará de dois arquivos para  resolução, o código abaixo mostra a abertura dos mesmo, a variável que guardará os dados do livro Memórias Póstumas está denominada como **LivroMP**, enquanto a que guardará os dados do Livro Dom Casmurro está denominada como **LivroDC**."
      ]
    },
    {
      "cell_type": "code",
      "metadata": {
        "id": "y2G9bcvApaIq"
      },
      "source": [
        "LivroMP = Read('MemóriasPóstumas.txt')\n",
        "LivroDC = Read('DomCasmurro.txt')"
      ],
      "execution_count": 106,
      "outputs": []
    },
    {
      "cell_type": "markdown",
      "metadata": {
        "id": "zRMMnSGAweAR"
      },
      "source": [
        "#***Contando os números de caracteres***\n",
        "O código abaixo conta o número de caracteres de determinada lista, nesse caso a lista que terá seus caracteres calculados será a **LivroMP** que representa o livro 'Memórias Póstumas', a váriavel **NumeroCaracteres** guardará o valor retornado pela função **Countc()**."
      ]
    },
    {
      "cell_type": "code",
      "metadata": {
        "id": "q5zOjvmdxDme",
        "colab": {
          "base_uri": "https://localhost:8080/"
        },
        "outputId": "8642fe78-41a5-4626-ffe5-24dc435569c9"
      },
      "source": [
        "NumeroCaracteres = CountC(LivroMP)\n",
        "\n",
        "print(\"Numero de Caracteres: \",NumeroCaracteres)\n"
      ],
      "execution_count": 108,
      "outputs": [
        {
          "output_type": "stream",
          "name": "stdout",
          "text": [
            "Numero de Caracteres:  355705\n"
          ]
        }
      ]
    },
    {
      "cell_type": "markdown",
      "metadata": {
        "id": "JFEJqP7ox3v4"
      },
      "source": [
        "# ***Limpeza de Conjunto, palavras do texto e  riqueza lexical***\n",
        "Nessa parte a função **word_tokenize()** irá separar a string LivroMP em uma lista de tokens, essa lista será atribuída a variável **PalavrasMP** e  terá alguns caracteres removido pela função **Clean()**, caracteres como '.' e '#'.\n",
        "Para calcular a quantidade de palavras no texto, será necessário a contagem apenas de palavras não repetidas, portanto a função **set()** foi utilizada no código, ela transforma a lista **PalavrasMP** em um conjunto desordenado e sem elementos iguais, esse conjunto é atribuído a variável **QuantPalavras**, após isso o calculo da quantidade de palavras é feita pela função **len()** que retorna o tamanho da variável **QuantPalavras**.\n",
        "O cálculo de riqueza lexical foi feito dividindo a quantidade de palavras que não são duplicatas pelo numero total de palavras."
      ]
    },
    {
      "cell_type": "code",
      "metadata": {
        "colab": {
          "base_uri": "https://localhost:8080/"
        },
        "id": "DJDPsKjdx6x9",
        "outputId": "9ac457e5-0c72-489c-d06b-f4a915800a9c"
      },
      "source": [
        "\n",
        "PalavrasMP = word_tokenize(LivroMP)\n",
        "PalavrasMP = Clean(PalavrasMP)\n",
        "QuantPalavras = set(PalavrasMP)\n",
        "RiquezaLexical = len(QuantPalavras)/len(PalavrasMP)\n",
        "\n",
        "print(\"Numero de PalavrasMP: \",len(QuantPalavras))\n",
        "print(\"Riqueza lexical: \",RiquezaLexical)"
      ],
      "execution_count": 109,
      "outputs": [
        {
          "output_type": "stream",
          "name": "stdout",
          "text": [
            "Numero de PalavrasMP:  10429\n",
            "Riqueza lexical:  0.1730609671102851\n"
          ]
        }
      ]
    },
    {
      "cell_type": "markdown",
      "metadata": {
        "id": "akwhfxsMCn2j"
      },
      "source": [
        "# ***Representação textual das palavras semelhantes entre as mais frequentes dos arquivos***\n",
        "\n",
        "Aqui é a representação das palavras que estão entre as vinte mais frequentes nos dois arquivos. Primeiramente é feita a tokenização e a limpeza do texto Dom Casmurro , da mesma forma que foi feita para o texto Memórias Póstumas, depois é definido o total de ocorrências das palavras dos dois textos pela função **Occurrences()** a qual retorna um valor que é guardado nas variáveis  **DictMP** e **DictDC** que representam as ocorrências dos textos Memórias Póstumas e Dom Casmurro respectivamente.\n",
        "A função **sorted()** é utilizada para ordenar os 20 maiores valores das variáveis **DictMP** e **DictDC**,ou seja, ele organizará as 20 palavras com mais ocorrência em ambos os textos.\n",
        "O primeiro **for** é para o conjunto de palavras do texto Memórias Póstumas e o segundo **for** para o de Dom Casmurro, no segundo **for** será feita uma comparação da palavra do texto Memórias Póstumas com todas as palavras do texto Dom Casmurro,se alguma delas forem iguais sua informações serão guardadas na variável **PalavrasSemelhantes**."
      ]
    },
    {
      "cell_type": "code",
      "metadata": {
        "id": "FhrooUNpCuo7",
        "colab": {
          "base_uri": "https://localhost:8080/"
        },
        "outputId": "c7804881-3e52-4713-df8d-1bab68ea5e5f"
      },
      "source": [
        "DictMP = Occurrences(PalavrasMP)\n",
        "PalFrequentesMP = sorted(DictMP.items(), key=lambda tupla:tupla[1], reverse=True)[:20]\n",
        "\n",
        "PalavrasDC = word_tokenize(LivroDM)\n",
        "PalavrasDC = Clean(PalavrasDC)\n",
        "DictDC = Occurrences(PalavrasDC)\n",
        "PalFrequentesDC = sorted(DictDC.items(), key=lambda tupla:tupla[1], reverse=True)[:20]\n",
        "\n",
        "PalavrasSemelhantes = ''\n",
        "for Palavras, n  in PalFrequentesMP:\n",
        "  for PalavrasD, d in PalFrequentesDC:\n",
        "       if(Palavras == PalavrasD):\n",
        "              PalavrasSemelhantes += Palavras + '\\t' +' Quantidade Mémorias Póstumas: ' + str(n) +'\\t' + '  Quantidade Dom Casmurro: ' + str(d) + '\\n' \n",
        "             \n",
        "\n",
        "print(PalavrasSemelhantes)"
      ],
      "execution_count": 110,
      "outputs": [
        {
          "output_type": "stream",
          "name": "stdout",
          "text": [
            "a\t Quantidade Mémorias Póstumas: 2490\t  Quantidade Dom Casmurro: 2483\n",
            "que\t Quantidade Mémorias Póstumas: 2203\t  Quantidade Dom Casmurro: 2684\n",
            "de\t Quantidade Mémorias Póstumas: 2117\t  Quantidade Dom Casmurro: 1975\n",
            "e\t Quantidade Mémorias Póstumas: 1949\t  Quantidade Dom Casmurro: 2185\n",
            "o\t Quantidade Mémorias Póstumas: 1711\t  Quantidade Dom Casmurro: 1667\n",
            "não\t Quantidade Mémorias Póstumas: 1164\t  Quantidade Dom Casmurro: 1524\n",
            "um\t Quantidade Mémorias Póstumas: 989\t  Quantidade Dom Casmurro: 771\n",
            "do\t Quantidade Mémorias Póstumas: 688\t  Quantidade Dom Casmurro: 595\n",
            "da\t Quantidade Mémorias Póstumas: 650\t  Quantidade Dom Casmurro: 626\n",
            "com\t Quantidade Mémorias Póstumas: 581\t  Quantidade Dom Casmurro: 536\n",
            "era\t Quantidade Mémorias Póstumas: 511\t  Quantidade Dom Casmurro: 556\n",
            "é\t Quantidade Mémorias Póstumas: 508\t  Quantidade Dom Casmurro: 715\n",
            "os\t Quantidade Mémorias Póstumas: 486\t  Quantidade Dom Casmurro: 660\n",
            "eu\t Quantidade Mémorias Póstumas: 476\t  Quantidade Dom Casmurro: 532\n",
            "se\t Quantidade Mémorias Póstumas: 456\t  Quantidade Dom Casmurro: 568\n",
            "as\t Quantidade Mémorias Póstumas: 420\t  Quantidade Dom Casmurro: 537\n",
            "mas\t Quantidade Mémorias Póstumas: 414\t  Quantidade Dom Casmurro: 608\n",
            "me\t Quantidade Mémorias Póstumas: 373\t  Quantidade Dom Casmurro: 489\n",
            "\n"
          ]
        }
      ]
    },
    {
      "cell_type": "markdown",
      "metadata": {
        "id": "EsAMAAAoB79k"
      },
      "source": [
        "# ***Representação Gráfica das vinte palavras mais frequentes nos arquivos***\n",
        "Aqui se encontra a representação gráfica das palavras 20 mais frequentes nos dois arquivos."
      ]
    },
    {
      "cell_type": "code",
      "metadata": {
        "id": "-0sQgeeiBlRJ",
        "colab": {
          "base_uri": "https://localhost:8080/",
          "height": 1000
        },
        "outputId": "9b480b09-828c-4f42-f28d-aa6c0c3afbfd"
      },
      "source": [
        "valor = []\n",
        "freq = []\n",
        "for Palavras, n  in PalFrequentesMP:\n",
        "          valor.append(Palavras)\n",
        "          freq.append(n)\n",
        "\n",
        "plt.title(\"Frequência de Palavras Memórias Póstumas\")\n",
        "plt.bar(valor, freq,width = 0.5, color='red')\n",
        "plt.gcf().set_size_inches(10, 15)\n",
        "plt.show()\n",
        "\n",
        "for Palavras, n  in PalFrequentesDC:\n",
        "          valor.append(Palavras)\n",
        "          freq.append(n)\n",
        "\n",
        "plt.title(\"Frequência de Palavras Dom Casmurro\")\n",
        "plt.bar(valor, freq,width = 0.5, color='blue')\n",
        "plt.gcf().set_size_inches(10, 15)\n",
        "plt.show()\n",
        "\n",
        "\n",
        "\n"
      ],
      "execution_count": 111,
      "outputs": [
        {
          "output_type": "display_data",
          "data": {
            "image/png": "[encoded data removed]",
            "text/plain": [
              "<Figure size 720x1080 with 1 Axes>"
            ]
          },
          "metadata": {
            "needs_background": "light"
          }
        },
        {
          "output_type": "display_data",
          "data": {
            "image/png": "[encoded data removed]",
            "text/plain": [
              "<Figure size 720x1080 with 1 Axes>"
            ]
          },
          "metadata": {
            "needs_background": "light"
          }
        }
      ]
    },
    {
      "cell_type": "markdown",
      "metadata": {
        "id": "gdi1lmWSKWXa"
      },
      "source": [
        "#***Referências***\n",
        "\n",
        "[1] Flávio Belizário da Silva Mota.   **Introdução ao Processamento de Linguagem Natural (PLN)**.              \n",
        "Disponível em\n",
        "https://github.com/flavio-mota/fundamentos-pln/blob/master/CIC260_Introdu%C3%A7%C3%A3o_ao_Processamento_de_Linguagem_Natural.ipynb.    Acesso em: Novembro de 2021.\n",
        "\n",
        "[2] PYTHON SOFTWARE FOUNDATION. **A Biblioteca Padrão do Python 2021** . Disponível em: <https://docs.python.org/pt-br/3/library/>. Acesso em: 15 de nov. de 2021."
      ]
    }
  ]
}